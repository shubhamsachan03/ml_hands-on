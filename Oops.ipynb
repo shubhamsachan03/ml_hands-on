{
 "cells": [
  {
   "cell_type": "code",
   "execution_count": 1,
   "id": "a92b5ddb",
   "metadata": {},
   "outputs": [],
   "source": [
    "class sample():\n",
    "    pass"
   ]
  },
  {
   "cell_type": "code",
   "execution_count": 2,
   "id": "3631e7ab",
   "metadata": {},
   "outputs": [],
   "source": [
    "mysample=sample()  # creating instance \n",
    "# without constructor then also it is not showing error  because by default any class u define in pyhton is derived class of object."
   ]
  },
  {
   "cell_type": "code",
   "execution_count": 3,
   "id": "f28ae0fb",
   "metadata": {},
   "outputs": [
    {
     "data": {
      "text/plain": [
       "__main__.sample"
      ]
     },
     "execution_count": 3,
     "metadata": {},
     "output_type": "execute_result"
    }
   ],
   "source": [
    "type (mysample)"
   ]
  },
  {
   "cell_type": "code",
   "execution_count": 4,
   "id": "59c79c95",
   "metadata": {},
   "outputs": [],
   "source": [
    "class dog():\n",
    "    \n",
    "    # class object attribute \n",
    "    # same for any insatnce of a class\n",
    "    species='mammal'   # public accesible outside of the class\n",
    "    __privatemember=\"animal\" # private member cant be accesible outisde the class \n",
    "                             #The double underscore __ prefixed to a variable makes it private.\n",
    "    \n",
    "    def __init__(self,breed,name,spots): # attributes breed\n",
    "        self.breed=breed      # self is instance of object itself\n",
    "        self.name=name        # self is reference to the object that is calling this\n",
    "        self.spots=spots\n",
    "        \n",
    "    # operations /actions a method is a function that is inside the class\n",
    "    def bark(self,number):  # no need of self it is something that user provide to u when u call\n",
    "        print(\"woof\")\n",
    "        print(\"woof my name is {} and number is {}\".format(self.name,number))"
   ]
  },
  {
   "cell_type": "code",
   "execution_count": 5,
   "id": "c90a3034",
   "metadata": {},
   "outputs": [],
   "source": [
    "my_dog=dog(breed='lab',name='sammy',spots=False)"
   ]
  },
  {
   "cell_type": "code",
   "execution_count": 10,
   "id": "8e831feb",
   "metadata": {},
   "outputs": [
    {
     "ename": "AttributeError",
     "evalue": "type object 'dog' has no attribute 'breed'",
     "output_type": "error",
     "traceback": [
      "\u001b[1;31m---------------------------------------------------------------------------\u001b[0m",
      "\u001b[1;31mAttributeError\u001b[0m                            Traceback (most recent call last)",
      "\u001b[1;32m~\\AppData\\Local\\Temp/ipykernel_40424/1630859774.py\u001b[0m in \u001b[0;36m<module>\u001b[1;34m\u001b[0m\n\u001b[1;32m----> 1\u001b[1;33m \u001b[0mdog\u001b[0m\u001b[1;33m.\u001b[0m\u001b[0mbreed\u001b[0m\u001b[1;33m\u001b[0m\u001b[1;33m\u001b[0m\u001b[0m\n\u001b[0m",
      "\u001b[1;31mAttributeError\u001b[0m: type object 'dog' has no attribute 'breed'"
     ]
    }
   ],
   "source": [
    "dog.breed"
   ]
  },
  {
   "cell_type": "code",
   "execution_count": 6,
   "id": "6989f4b5",
   "metadata": {},
   "outputs": [
    {
     "data": {
      "text/plain": [
       "__main__.dog"
      ]
     },
     "execution_count": 6,
     "metadata": {},
     "output_type": "execute_result"
    }
   ],
   "source": [
    "type(my_dog)  # __main__ the scrip invoked directly is considered to be in the main module.\n",
    "# module is a pyhton file which has bunch of variables functions classes defined "
   ]
  },
  {
   "cell_type": "code",
   "execution_count": 7,
   "id": "48f59f47",
   "metadata": {},
   "outputs": [
    {
     "data": {
      "text/plain": [
       "'lab'"
      ]
     },
     "execution_count": 7,
     "metadata": {},
     "output_type": "execute_result"
    }
   ],
   "source": [
    "my_dog.breed"
   ]
  },
  {
   "cell_type": "code",
   "execution_count": 8,
   "id": "18730314",
   "metadata": {},
   "outputs": [
    {
     "data": {
      "text/plain": [
       "'sammy'"
      ]
     },
     "execution_count": 8,
     "metadata": {},
     "output_type": "execute_result"
    }
   ],
   "source": [
    "my_dog.name"
   ]
  },
  {
   "cell_type": "code",
   "execution_count": 9,
   "id": "3e7d3dcb",
   "metadata": {},
   "outputs": [
    {
     "data": {
      "text/plain": [
       "False"
      ]
     },
     "execution_count": 9,
     "metadata": {},
     "output_type": "execute_result"
    }
   ],
   "source": [
    "my_dog.spots"
   ]
  },
  {
   "cell_type": "code",
   "execution_count": 10,
   "id": "23a69988",
   "metadata": {},
   "outputs": [
    {
     "data": {
      "text/plain": [
       "'mammal'"
      ]
     },
     "execution_count": 10,
     "metadata": {},
     "output_type": "execute_result"
    }
   ],
   "source": [
    "my_dog.species"
   ]
  },
  {
   "cell_type": "code",
   "execution_count": 11,
   "id": "6d7c74e7",
   "metadata": {},
   "outputs": [
    {
     "ename": "AttributeError",
     "evalue": "'dog' object has no attribute '__privatemember'",
     "output_type": "error",
     "traceback": [
      "\u001b[1;31m---------------------------------------------------------------------------\u001b[0m",
      "\u001b[1;31mAttributeError\u001b[0m                            Traceback (most recent call last)",
      "\u001b[1;32m~\\AppData\\Local\\Temp/ipykernel_11692/1965715674.py\u001b[0m in \u001b[0;36m<module>\u001b[1;34m\u001b[0m\n\u001b[1;32m----> 1\u001b[1;33m \u001b[0mmy_dog\u001b[0m\u001b[1;33m.\u001b[0m\u001b[0m__privatemember\u001b[0m\u001b[1;33m\u001b[0m\u001b[1;33m\u001b[0m\u001b[0m\n\u001b[0m",
      "\u001b[1;31mAttributeError\u001b[0m: 'dog' object has no attribute '__privatemember'"
     ]
    }
   ],
   "source": [
    "my_dog.__privatemember"
   ]
  },
  {
   "cell_type": "code",
   "execution_count": 14,
   "id": "684e7191",
   "metadata": {},
   "outputs": [
    {
     "name": "stdout",
     "output_type": "stream",
     "text": [
      "woof\n",
      "woof my name is sammy and number is 10\n"
     ]
    }
   ],
   "source": [
    "my_dog.bark(10)"
   ]
  },
  {
   "cell_type": "code",
   "execution_count": 15,
   "id": "86bd95ca",
   "metadata": {},
   "outputs": [],
   "source": [
    "class circle ():\n",
    "    # class obkect attribute\n",
    "    pi=3.14\n",
    "    def __init__(self,radius=1):\n",
    "        self.radius=radius\n",
    "        self.area=radius*radius*self.pi\n",
    "    # method \n",
    "    def get_circumference(self):\n",
    "        return self.radius*self.pi*2"
   ]
  },
  {
   "cell_type": "code",
   "execution_count": 19,
   "id": "3f73f20d",
   "metadata": {},
   "outputs": [],
   "source": [
    "my_circle=circle(5)\n"
   ]
  },
  {
   "cell_type": "code",
   "execution_count": 20,
   "id": "57863493",
   "metadata": {},
   "outputs": [
    {
     "data": {
      "text/plain": [
       "3.14"
      ]
     },
     "execution_count": 20,
     "metadata": {},
     "output_type": "execute_result"
    }
   ],
   "source": [
    "my_circle.pi"
   ]
  },
  {
   "cell_type": "code",
   "execution_count": 21,
   "id": "24c2e163",
   "metadata": {},
   "outputs": [
    {
     "data": {
      "text/plain": [
       "5"
      ]
     },
     "execution_count": 21,
     "metadata": {},
     "output_type": "execute_result"
    }
   ],
   "source": [
    "my_circle.radius   # if not provided 30 above then by default 1"
   ]
  },
  {
   "cell_type": "code",
   "execution_count": 22,
   "id": "9c5d68ae",
   "metadata": {},
   "outputs": [
    {
     "data": {
      "text/plain": [
       "31.400000000000002"
      ]
     },
     "execution_count": 22,
     "metadata": {},
     "output_type": "execute_result"
    }
   ],
   "source": [
    "my_circle.get_circumference()"
   ]
  },
  {
   "cell_type": "code",
   "execution_count": 23,
   "id": "b1301440",
   "metadata": {},
   "outputs": [
    {
     "data": {
      "text/plain": [
       "78.5"
      ]
     },
     "execution_count": 23,
     "metadata": {},
     "output_type": "execute_result"
    }
   ],
   "source": [
    "my_circle.area"
   ]
  },
  {
   "cell_type": "code",
   "execution_count": null,
   "id": "276e68d6",
   "metadata": {},
   "outputs": [],
   "source": [
    "# inheritance  way of creating new classes \n",
    "# from the classes that has been already defined\n",
    "# the ability to re use code that has been already \n",
    "# created and to reduce complexity"
   ]
  },
  {
   "cell_type": "code",
   "execution_count": 68,
   "id": "2abfa11e",
   "metadata": {},
   "outputs": [],
   "source": [
    "class animal():\n",
    "    def __init__(self):\n",
    "        print(\"animal created\")\n",
    "    def who_am_i(self):          # method1\n",
    "        print(\" i am an animal\")\n",
    "    def eat(self):               # method2\n",
    "        print(\"i am eating\")\n",
    "        "
   ]
  },
  {
   "cell_type": "code",
   "execution_count": 79,
   "id": "ab677235",
   "metadata": {},
   "outputs": [],
   "source": [
    "class dog(animal): # deriving feature from base class\n",
    "    def __init__(self):\n",
    "        animal.__init__(self)\n",
    "        print(\"dog created\")\n",
    "    def eat(self):\n",
    "        print(\"i am dancing\")"
   ]
  },
  {
   "cell_type": "code",
   "execution_count": 81,
   "id": "86f1f3ba",
   "metadata": {},
   "outputs": [
    {
     "name": "stdout",
     "output_type": "stream",
     "text": [
      "animal created\n",
      "dog created\n"
     ]
    }
   ],
   "source": [
    "mydog=dog()"
   ]
  },
  {
   "cell_type": "code",
   "execution_count": 76,
   "id": "e668a8c1",
   "metadata": {},
   "outputs": [
    {
     "name": "stdout",
     "output_type": "stream",
     "text": [
      "i am eating\n"
     ]
    }
   ],
   "source": [
    "mydog.eat()   # before changing in class dog"
   ]
  },
  {
   "cell_type": "code",
   "execution_count": 82,
   "id": "6ba86e3e",
   "metadata": {},
   "outputs": [
    {
     "name": "stdout",
     "output_type": "stream",
     "text": [
      "i am dancing\n"
     ]
    }
   ],
   "source": [
    "mydog.eat()      # after changing in class dog"
   ]
  },
  {
   "cell_type": "code",
   "execution_count": 78,
   "id": "f416983f",
   "metadata": {},
   "outputs": [
    {
     "name": "stdout",
     "output_type": "stream",
     "text": [
      "animal created\n"
     ]
    }
   ],
   "source": [
    "myanimal=animal()"
   ]
  },
  {
   "cell_type": "code",
   "execution_count": 72,
   "id": "fb50d360",
   "metadata": {},
   "outputs": [
    {
     "name": "stdout",
     "output_type": "stream",
     "text": [
      "i am eating\n"
     ]
    }
   ],
   "source": [
    "myanimal.eat()"
   ]
  },
  {
   "cell_type": "code",
   "execution_count": null,
   "id": "84037b14",
   "metadata": {},
   "outputs": [],
   "source": [
    "### polymorphism ###\n",
    " ## in which diff classes objects can share the same method name"
   ]
  },
  {
   "cell_type": "code",
   "execution_count": 83,
   "id": "ab00bd87",
   "metadata": {},
   "outputs": [],
   "source": [
    "class dog():\n",
    "    def __init__(self,name):\n",
    "        self.name=name\n",
    "    def speak(self):\n",
    "        return self.name + \"says woof!\""
   ]
  },
  {
   "cell_type": "code",
   "execution_count": 84,
   "id": "721091f4",
   "metadata": {},
   "outputs": [],
   "source": [
    "class cat():\n",
    "    def __init__(self,name):\n",
    "        self.name=name\n",
    "    def speak(self):\n",
    "        return self.name+\"says meow\""
   ]
  },
  {
   "cell_type": "code",
   "execution_count": 86,
   "id": "d90f1de3",
   "metadata": {},
   "outputs": [],
   "source": [
    "niko=dog(\"niko\")\n",
    "felix=cat(\"felix\")"
   ]
  },
  {
   "cell_type": "code",
   "execution_count": 87,
   "id": "ba874e7a",
   "metadata": {},
   "outputs": [
    {
     "name": "stdout",
     "output_type": "stream",
     "text": [
      "nikosays woof!\n"
     ]
    }
   ],
   "source": [
    "print(niko.speak())"
   ]
  },
  {
   "cell_type": "code",
   "execution_count": 88,
   "id": "6a7eae1e",
   "metadata": {},
   "outputs": [
    {
     "name": "stdout",
     "output_type": "stream",
     "text": [
      "felixsays meow\n"
     ]
    }
   ],
   "source": [
    "print(felix.speak())"
   ]
  },
  {
   "cell_type": "code",
   "execution_count": 6,
   "id": "ecd0e679",
   "metadata": {},
   "outputs": [],
   "source": [
    "class Student:\n",
    "    count = 0\n",
    "    def __init__(self):\n",
    "        Student.count += 1 "
   ]
  },
  {
   "cell_type": "code",
   "execution_count": 7,
   "id": "f69319ff",
   "metadata": {},
   "outputs": [
    {
     "data": {
      "text/plain": [
       "0"
      ]
     },
     "execution_count": 7,
     "metadata": {},
     "output_type": "execute_result"
    }
   ],
   "source": [
    "Student.count"
   ]
  },
  {
   "cell_type": "code",
   "execution_count": 14,
   "id": "dbfaf1ca",
   "metadata": {},
   "outputs": [
    {
     "data": {
      "text/plain": [
       "5"
      ]
     },
     "execution_count": 14,
     "metadata": {},
     "output_type": "execute_result"
    }
   ],
   "source": [
    "\n",
    "Student.count"
   ]
  },
  {
   "cell_type": "code",
   "execution_count": 13,
   "id": "b93e484c",
   "metadata": {},
   "outputs": [],
   "source": [
    "std1=Student()\n",
    "std1=Student()"
   ]
  },
  {
   "cell_type": "code",
   "execution_count": null,
   "id": "b4081019",
   "metadata": {},
   "outputs": [],
   "source": [
    "https://www.tutorialsteacher.com/python/public-private-protected-modifiers"
   ]
  }
 ],
 "metadata": {
  "kernelspec": {
   "display_name": "Python 3 (ipykernel)",
   "language": "python",
   "name": "python3"
  },
  "language_info": {
   "codemirror_mode": {
    "name": "ipython",
    "version": 3
   },
   "file_extension": ".py",
   "mimetype": "text/x-python",
   "name": "python",
   "nbconvert_exporter": "python",
   "pygments_lexer": "ipython3",
   "version": "3.9.7"
  }
 },
 "nbformat": 4,
 "nbformat_minor": 5
}
